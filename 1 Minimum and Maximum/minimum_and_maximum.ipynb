{
 "cells": [
  {
   "cell_type": "markdown",
   "id": "fce80ed5",
   "metadata": {},
   "source": [
    "# **Algorithm Design, Implementation, and Performance Analysis**\n",
    "## **1. Algorithm Design and Implementation**\n",
    "### **1.1 Minimum**\n",
    "To determine the minimum value in a list, we start by assuming the first element is the smallest. We then iterate through the remaining elements, comparing each one to our current minimum. If a smaller value is found, we update our minimum accordingly. After checking all elements, the smallest value identified is returned as the minimum of the list.\n",
    "#### **1.1.1 Algorithm Design**"
   ]
  },
  {
   "cell_type": "code",
   "execution_count": 1,
   "id": "0f0b4c82",
   "metadata": {},
   "outputs": [],
   "source": [
    "def min_value(A):\n",
    "\t# Assume the first element is the minimum initially\n",
    "\tminimum = A[0]\n",
    "\t# Iterate through the rest of the list\n",
    "\tfor i in range(1, len(A)):\n",
    "\t\t# If a smaller element is found, update min\n",
    "\t\tif A[i] < minimum:\n",
    "\t\t\tminimum = A[i]\n",
    "\t# Return the smallest value found\n",
    "\treturn minimum"
   ]
  },
  {
   "cell_type": "markdown",
   "id": "f7e23b2a",
   "metadata": {},
   "source": [
    "#### **1.1.2 Functionality Demonstration with a Random List**\n",
    "We will demonstrate the functionality of the `min_value` algorithm by applying it to a randomly generated list. The random list is displayed alongside the minimum value found by the algorithm."
   ]
  },
  {
   "cell_type": "code",
   "execution_count": 2,
   "id": "871759ae",
   "metadata": {},
   "outputs": [
    {
     "name": "stdout",
     "output_type": "stream",
     "text": [
      "Array: [25, 67, 10, 66, 55, 30, 59, 9, 76, 8]\n",
      "Minimum value: 8\n"
     ]
    }
   ],
   "source": [
    "import random\n",
    "\n",
    "A = [random.randint(1, 100) for _ in range(10)]\n",
    "print(\"Array:\", A)\n",
    "print(\"Minimum value:\", min_value(A))"
   ]
  },
  {
   "cell_type": "markdown",
   "id": "1f1d8a85",
   "metadata": {},
   "source": [
    "#### **1.1.3 Validation of Correctness**\n",
    "We will validate the correctness of `min_value` by comparing its results with Python's built-in `min` function."
   ]
  },
  {
   "cell_type": "code",
   "execution_count": 3,
   "id": "96202600",
   "metadata": {},
   "outputs": [
    {
     "name": "stdout",
     "output_type": "stream",
     "text": [
      "All tests passed successfully.\n"
     ]
    }
   ],
   "source": [
    "import random\n",
    "\n",
    "# Set the maximum value for n\n",
    "m = 10000\n",
    "# Flag to track if all tests pass\n",
    "test = True\n",
    "# Test min_value for arrays of size 5 to m, incrementing by 5\n",
    "for n in range(5, m+1, 5):\n",
    "\t# Generate a random array of size n with values from 1 to n\n",
    "\tA = [random.randint(1, n) for _ in range(n)]\n",
    "\t# Compare the result of min_value with Python's built-in min\n",
    "\tif min_value(A) != min(A):\n",
    "\t\t# Print error if the results do not match\n",
    "\t\tprint(\"Error in test for n =\", n)\n",
    "\t\ttest = False\n",
    "\t\tbreak\n",
    "# If all tests passed, print success message\n",
    "if test:\n",
    "\tprint(\"All tests passed successfully.\")"
   ]
  },
  {
   "cell_type": "markdown",
   "id": "874d5e05",
   "metadata": {},
   "source": [
    "### **1.2 Maximum**\n",
    "To determine the maximum value in a list, we start by assuming the first element is the largest. We then iterate through the remaining elements, comparing each one to our current maximum. If a larger value is found, we update our maximum accordingly. After checking all elements, the largest value identified is returned as the maximum of the list.\n",
    "#### **1.2.1 Algorithm Design**"
   ]
  },
  {
   "cell_type": "code",
   "execution_count": 4,
   "id": "30e08bfd",
   "metadata": {},
   "outputs": [],
   "source": [
    "def max_value(A):\n",
    "\t# Assume the first element is the maximum initially\n",
    "\tmaximum = A[0]\n",
    "\t# Iterate through the rest of the list\n",
    "\tfor i in range(1, len(A)):\n",
    "\t\t# If a larger element is found, update max\n",
    "\t\tif A[i] > maximum:\n",
    "\t\t\tmaximum = A[i]\n",
    "\t# Return the largest value found\n",
    "\treturn maximum"
   ]
  },
  {
   "cell_type": "markdown",
   "id": "29c64a9c",
   "metadata": {},
   "source": [
    "#### **1.2.2 Functionality Demonstration with a Random List**\n",
    "We will demonstrate the functionality of the `max_value` algorithm by applying it to a randomly generated list. The random list is displayed alongside the maximum value found by the algorithm."
   ]
  },
  {
   "cell_type": "code",
   "execution_count": 5,
   "id": "3a138b78",
   "metadata": {},
   "outputs": [
    {
     "name": "stdout",
     "output_type": "stream",
     "text": [
      "Array: [81, 12, 19, 14, 7, 90, 47, 42, 50, 25]\n",
      "Maximum value: 90\n"
     ]
    }
   ],
   "source": [
    "import random\n",
    "\n",
    "A = [random.randint(1, 100) for _ in range(10)]\n",
    "print(\"Array:\", A)\n",
    "print(\"Maximum value:\", max_value(A))"
   ]
  },
  {
   "cell_type": "markdown",
   "id": "3b6d2a5e",
   "metadata": {},
   "source": [
    "#### **1.2.3 Validation of Correctness**\n",
    "We will validate the correctness of `max_value` by comparing its results with Python's built-in `max` function."
   ]
  },
  {
   "cell_type": "code",
   "execution_count": 6,
   "id": "6e657981",
   "metadata": {},
   "outputs": [
    {
     "name": "stdout",
     "output_type": "stream",
     "text": [
      "All tests passed successfully.\n"
     ]
    }
   ],
   "source": [
    "import random\n",
    "\n",
    "# Set the maximum value for n\n",
    "m = 10000\n",
    "# Flag to track if all tests pass\n",
    "test = True\n",
    "# Test max_value for arrays of size 5 to m, incrementing by 5\n",
    "for n in range(5, m+1, 5):\n",
    "\t# Generate a random array of size n with values from 1 to n\n",
    "\tA = [random.randint(1, n) for _ in range(n)]\n",
    "\t# Compare the result of max_value with Python's built-in max\n",
    "\tif max_value(A) != max(A):\n",
    "\t\t# Print error if the results do not match\n",
    "\t\tprint(\"Error in test for n =\", n)\n",
    "\t\ttest = False\n",
    "\t\tbreak\n",
    "# If all tests passed, print success message\n",
    "if test:\n",
    "\tprint(\"All tests passed successfully.\")"
   ]
  },
  {
   "cell_type": "markdown",
   "id": "4259f6c1",
   "metadata": {},
   "source": [
    "### **1.3 Minimum and Maximum**\n",
    "To find both the minimum and maximum values in a list, we use the min_value and max_value functions defined above. The min_value function identifies the smallest element, while the max_value function finds the largest element. By calling both functions on the same list, we efficiently obtain both extremal values.\n",
    "\n",
    "To validate the correctness of finding both the minimum and maximum values, we rely on the correctness of the previously defined min_value and max_value functions. Since min_and_max simply combines the results of these two validated functions, its correctness is directly derived from them.\n",
    "#### **1.3.1 Algorithm Design**"
   ]
  },
  {
   "cell_type": "code",
   "execution_count": 7,
   "id": "310cc146",
   "metadata": {},
   "outputs": [],
   "source": [
    "def min_and_max(A):\n",
    "\t# Call min_value to get the minimum and max_value to get the maximum\n",
    "\treturn min_value(A), max_value(A)"
   ]
  },
  {
   "cell_type": "markdown",
   "id": "addb0b75",
   "metadata": {},
   "source": [
    "#### **1.3.2 Functionality Demonstration with a Random List**\n",
    "We will demonstrate the functionality of the `min_and_max` algorithm by applying it to a randomly generated list. The random list is displayed alongside both the minimum and maximum values found by the algorithm."
   ]
  },
  {
   "cell_type": "code",
   "execution_count": 8,
   "id": "573644b8",
   "metadata": {},
   "outputs": [
    {
     "name": "stdout",
     "output_type": "stream",
     "text": [
      "Array: [92, 75, 42, 78, 86, 27, 81, 82, 9, 54]\n",
      "Minimum value: 9\n",
      "Maximum value: 92\n"
     ]
    }
   ],
   "source": [
    "import random\n",
    "\n",
    "A = [random.randint(1, 100) for _ in range(10)]\n",
    "print(\"Array:\", A)\n",
    "minimum, maximum = min_and_max(A)\n",
    "print(\"Minimum value:\", minimum)\n",
    "print(\"Maximum value:\", maximum)"
   ]
  },
  {
   "cell_type": "markdown",
   "id": "bdb1ee9b",
   "metadata": {},
   "source": [
    "### **1.4 Optimized Minimum and Maximum**\n",
    "\n",
    "The optimized approach for finding both the minimum and maximum values in a list works by processing elements in pairs. For each pair, the two elements are first compared to each other, and then the smaller is compared to the current minimum while the larger is compared to the current maximum. This reduces the total number of comparisons needed compared to checking each element individually against both the minimum and maximum. If the list has an odd number of elements, the first element is used to initialize both the minimum and maximum before proceeding with pairwise comparisons. This method achieves greater efficiency, especially for large lists.\n",
    "#### **1.4.1 Algorithm Design**"
   ]
  },
  {
   "cell_type": "code",
   "execution_count": 10,
   "id": "31dbd0dc",
   "metadata": {},
   "outputs": [],
   "source": [
    "# Returns both the minimum and maximum values in the list A using fewer comparisons\n",
    "def min_and_max_optimized(A):\n",
    "\tn = len(A)\n",
    "\t# If the list has an even number of elements, initialize min and max by comparing the first two\n",
    "\tif n % 2 == 0:\n",
    "\t\tminimum, maximum = (A[0], A[1]) if A[0] < A[1] else (A[1], A[0])\n",
    "\t\tstart = 2  # Start from the third element\n",
    "\telse:\n",
    "\t\t# If odd, initialize both to the first element\n",
    "\t\tminimum = maximum = A[0]\n",
    "\t\tstart = 1  # Start from the second element\n",
    "\n",
    "\t# Process pairs of elements\n",
    "\tfor i in range(start, n, 2):\n",
    "\t\tif A[i] < A[i + 1]:\n",
    "\t\t\tif A[i] < minimum:\n",
    "\t\t\t\tminimum = A[i]\n",
    "\t\t\tif A[i + 1] > maximum:\n",
    "\t\t\t\tmaximum = A[i + 1]\n",
    "\t\telse:\n",
    "\t\t\tif A[i + 1] < minimum:\n",
    "\t\t\t\tminimum = A[i + 1]\n",
    "\t\t\tif A[i] > maximum:\n",
    "\t\t\t\tmaximum = A[i]\n",
    "\t# Return the minimum and maximum found\n",
    "\treturn minimum, maximum"
   ]
  },
  {
   "cell_type": "markdown",
   "id": "84f8ce29",
   "metadata": {},
   "source": [
    "#### **1.4.2 Functionality Demonstration with a Random List**\n",
    "We will demonstrate the functionality of the `min_and_max_optimized` algorithm by applying it to a randomly generated list. The random list is displayed alongside both the minimum and maximum values found by the algorithm."
   ]
  },
  {
   "cell_type": "code",
   "execution_count": 11,
   "id": "a1ef3ba4",
   "metadata": {},
   "outputs": [
    {
     "name": "stdout",
     "output_type": "stream",
     "text": [
      "Array: [11, 42, 35, 38, 35, 67, 20, 63, 56, 38]\n",
      "Minimum value: 11\n",
      "Maximum value: 67\n"
     ]
    }
   ],
   "source": [
    "import random\n",
    "\n",
    "A = [random.randint(1, 100) for _ in range(10)]\n",
    "print(\"Array:\", A)\n",
    "minimum, maximum = min_and_max_optimized(A)\n",
    "print(\"Minimum value:\", minimum)\n",
    "print(\"Maximum value:\", maximum)"
   ]
  },
  {
   "cell_type": "markdown",
   "id": "729de4cd",
   "metadata": {},
   "source": [
    "#### **1.4.3 Validation of Correctness**\n",
    "We will validate the correctness of `min_and_max_optimized` by comparing its results with Python's built-in `min` and `max` functions."
   ]
  },
  {
   "cell_type": "code",
   "execution_count": 12,
   "id": "aa9e3fd3",
   "metadata": {},
   "outputs": [
    {
     "name": "stdout",
     "output_type": "stream",
     "text": [
      "All tests passed successfully.\n"
     ]
    }
   ],
   "source": [
    "import random\n",
    "\n",
    "# Set the maximum value for n\n",
    "m = 10000\n",
    "# Flag to track if all tests pass\n",
    "test = True\n",
    "# Test min_and_max_optimized for arrays of size 5 to m, incrementing by 5\n",
    "for n in range(5, m+1, 5):\n",
    "\t# Generate a random array of size n with values from 1 to n\n",
    "\tA = [random.randint(1, n) for _ in range(n)]\n",
    "\t# Compare the result of min_and_max_optimized with Python's built-in min and max\n",
    "\tif min_and_max_optimized(A) != (min(A), max(A)):\n",
    "\t\t# Print error if the results do not match\n",
    "\t\tprint(\"Error in test for n =\", n)\n",
    "\t\ttest = False\n",
    "\t\tbreak\n",
    "# If all tests passed, print success message\n",
    "if test:\n",
    "\tprint(\"All tests passed successfully.\")"
   ]
  },
  {
   "cell_type": "markdown",
   "id": "4290ae1e",
   "metadata": {},
   "source": [
    "## **2. Experiment Block: Performance Comparison**\n",
    "### **2.1 Importing Libraries and Setting Up Paths**"
   ]
  },
  {
   "cell_type": "code",
   "execution_count": 13,
   "id": "f0c41998",
   "metadata": {},
   "outputs": [],
   "source": [
    "import random\n",
    "import time\n",
    "import matplotlib.pyplot as plt\n",
    "import os\n",
    "import sys\n",
    "\n",
    "sys.path.append(os.path.abspath(\"../img\"))"
   ]
  },
  {
   "cell_type": "markdown",
   "id": "a3c51f7c",
   "metadata": {},
   "source": [
    "### **2.2 Utility Functions for Performance Measurement and Visualization**"
   ]
  },
  {
   "cell_type": "code",
   "execution_count": 18,
   "id": "f2d9c9a8",
   "metadata": {},
   "outputs": [],
   "source": [
    "# Function that computes the execution time\n",
    "def execution_time(fun, *args):\n",
    "\t# Record the start time before the function call\n",
    "\tstart = time.time()\n",
    "\t\n",
    "\t# Call the function with the provided arguments\n",
    "\tfun(*args)\n",
    "\t\n",
    "\t# Record the end time after the function call\n",
    "\tend = time.time()\n",
    "\t\n",
    "\t# Return the difference between end and start times (execution duration)\n",
    "\treturn end - start\n",
    "\n",
    "\n",
    "# Function that compares execution time\n",
    "def comparison_machine(sizes, reps, algorithm):\n",
    "\t# Initialize a list to store total execution times for each algorithm\n",
    "\ttotal_time = [[] for _ in algorithm]\n",
    "\t\n",
    "\t# Loop through each size in the list of sizes\n",
    "\tfor n in sizes:\n",
    "\t\t# Initialize a list to store the cumulative execution time for each algorithm\n",
    "\t\tcumulative_time = [0 for _ in algorithm]\n",
    "\t\t\n",
    "\t\t# Repeat the experiment 'reps' times for each size\n",
    "\t\tfor _ in range(reps):\n",
    "\t\t\t# Generate a random sample list of size n with values from 1 to n\n",
    "\t\t\tlist_sample = [random.randint(1, n) for _ in range(n)]\n",
    "\t\t\t\n",
    "\t\t\t# Loop through each algorithm and measure its execution time\n",
    "\t\t\tfor i, algo in enumerate(algorithm):\n",
    "\t\t\t\t\n",
    "\t\t\t\t# Measure the execution time of the algorithm and add it to the cumulative time\n",
    "\t\t\t\tcumulative_time[i] += execution_time(algo, list_sample)\n",
    "\t\t\n",
    "\t\t# Calculate the average execution time for each algorithm and append it to total_times\n",
    "\t\tfor i, t in enumerate(cumulative_time):\n",
    "\t\t\ttotal_time[i].append(t / reps)\n",
    "\t\n",
    "\t# Return the list of average execution times for each algorithm\n",
    "\treturn total_time\n",
    "\n",
    "\n",
    "# Function that plots the results\n",
    "def comparison_graph(sizes, t, algorithm):\n",
    "\t# Create the plot\n",
    "\tfor i, algo in enumerate(algorithm):\n",
    "\t\t# Plot the execution times for each algorithm\n",
    "\t\tplt.plot(sizes, t[i], label=algo.__name__)\n",
    "\t\n",
    "\t# Plot features\n",
    "\tplt.title(f'Comparison plot') # Title\n",
    "\tplt.xlabel(\"List size (n)\") # x-axis label\n",
    "\tplt.ylabel(\"Average time (s)\") # y-axis label\n",
    "\tplt.legend(loc='upper left') # show legend\n",
    "\n",
    "\t# Relative path to the 'img' folder from the notebook location\n",
    "\timg_path = os.path.join(\"..\", \"img\")\n",
    "\t\n",
    "\t# Ensure the 'img' folder exists; create it if it doesn't\n",
    "\tos.makedirs(img_path, exist_ok=True)\n",
    "\n",
    "\t# Save the graph to the 'img' folder with a filename based on the scenario name\n",
    "\tfilename = os.path.join(img_path, \"comparison_1.png\")\n",
    "\tplt.savefig(filename, bbox_inches=\"tight\")  # Save the plot with tight bounding box\n",
    "\tprint(f\"Graph saved to: {filename}\")  # Print the location of the saved graph\n",
    "\t\n",
    "\t# Display the plot\n",
    "\tplt.show()\n",
    " \n",
    " \n",
    "# Function that calls all the machinery\n",
    "def machine_call(sizes, reps, algorithm):\n",
    "\t# Call the comparison_machine function to compute execution times\n",
    "\tt = comparison_machine(sizes, reps, algorithm)\n",
    "\t\n",
    "\t# Call the comparison_graph function to plot the results\n",
    "\tcomparison_graph(sizes, t, algorithm)"
   ]
  },
  {
   "cell_type": "markdown",
   "id": "e7d003ba",
   "metadata": {},
   "source": [
    "### **2.3 Performance Comparison of Algorithms**\n",
    "This subsection evaluates the performance of the `min_and_max` and `min_and_max_optimized` algorithms using randomly generated input lists of varying sizes. The execution times are measured and averaged over multiple repetitions, and the results are visualized in a comparison graph."
   ]
  },
  {
   "cell_type": "code",
   "execution_count": 19,
   "id": "9a03744b",
   "metadata": {},
   "outputs": [
    {
     "name": "stdout",
     "output_type": "stream",
     "text": [
      "Graph saved to: ..\\img\\comparison_1.png\n"
     ]
    },
    {
     "data": {
      "image/png": "[encoded data removed]",
      "text/plain": [
       "<Figure size 640x480 with 1 Axes>"
      ]
     },
     "metadata": {},
     "output_type": "display_data"
    }
   ],
   "source": [
    "samples = 10  # Number of sample points (input sizes) to test\n",
    "step_size = 100000  # Step size for generating input sizes\n",
    "sizes = [i * step_size for i in range(1, samples + 1)]  # List of input sizes to test\n",
    "\n",
    "reps = 10  # Number of repetitions for each input size to calculate average execution time\n",
    "\n",
    "algorithm = [min_and_max, min_and_max_optimized]  # List of algorithms to compare\n",
    "\n",
    "# Call the machine_call function to compute execution times and generate a comparison graph\n",
    "machine_call(sizes, reps, algorithm)"
   ]
  },
  {
   "cell_type": "markdown",
   "id": "f44a6fbc",
   "metadata": {},
   "source": [
    "The plot shows that, as the list size increases, the optimized algorithm consistently outperforms the standard approach, demonstrating its efficiency in reducing the number of comparisons required. This performance gap becomes more pronounced with larger input sizes, highlighting the practical benefits of algorithmic optimization for large datasets."
   ]
  },
  {
   "cell_type": "markdown",
   "id": "23eb8356",
   "metadata": {},
   "source": [
    "## **Conclusion**\n",
    "\n",
    "In this notebook, we explored and analyzed different algorithms for finding the minimum and maximum values in a list. We began with straightforward implementations and then introduced an optimized approach that reduces the number of comparisons by processing elements in pairs. Through correctness validation and extensive performance experiments, we demonstrated that the optimized algorithm not only produces accurate results but also offers significant efficiency gains, especially for large datasets. The comparative analysis and visualization highlight the importance of algorithmic optimization in practical applications, reinforcing the value of thoughtful algorithm design in achieving better computational performance."
   ]
  }
 ],
 "metadata": {
  "kernelspec": {
   "display_name": "Python 3",
   "language": "python",
   "name": "python3"
  },
  "language_info": {
   "codemirror_mode": {
    "name": "ipython",
    "version": 3
   },
   "file_extension": ".py",
   "mimetype": "text/x-python",
   "name": "python",
   "nbconvert_exporter": "python",
   "pygments_lexer": "ipython3",
   "version": "3.13.4"
  }
 },
 "nbformat": 4,
 "nbformat_minor": 5
}
