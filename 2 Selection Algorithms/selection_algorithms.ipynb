{
 "cells": [
  {
   "cell_type": "markdown",
   "id": "e972cf57",
   "metadata": {},
   "source": [
    "# **Algorithm Design, Implementation, and Performance Analysis**\n",
    "## **1. Algorithm Design and Implementation**\n",
    "### **1.1 Random Select**\n",
    "Random select is an algorithm used to efficiently find the i-th smallest element in an unsorted list. It works by randomly choosing a pivot element and partitioning the list into elements less than or equal to the pivot and those greater than the pivot. Depending on the position of the pivot after partitioning, the algorithm recursively searches either the left or right partition, effectively narrowing down the search space. This process continues until the desired order statistic is found. The use of randomization helps ensure good average-case performance.\n",
    "#### **1.1.1 Algorithm Design**"
   ]
  },
  {
   "cell_type": "code",
   "execution_count": 1,
   "id": "912c8e5a",
   "metadata": {},
   "outputs": [],
   "source": [
    "import random\n",
    "\n",
    "\n",
    "def partition(A, p, r):\n",
    "\tpivot = A[r]  # Choose the last element as the pivot\n",
    "\ti = p - 1  # Initialize the index for the smaller element\n",
    "\tfor j in range(p, r):\n",
    "\t\tif A[j] <= pivot:  # If the current element is less than or equal to the pivot\n",
    "\t\t\ti += 1  # Increment the index for the smaller element\n",
    "\t\t\tA[i], A[j] = A[j], A[i]  # Swap the elements\n",
    "\tA[i + 1], A[r] = A[r], A[i + 1]  # Place the pivot in its correct position\n",
    "\treturn i + 1  # Return the index of the pivot\n",
    "\n",
    "\n",
    "def random_partition(A, p, q):\n",
    "\tpivot_index = random.randint(p, q)  # Randomly select a pivot index\n",
    "\tA[pivot_index], A[q] = A[q], A[pivot_index]  # Swap the pivot with the last element\n",
    "\treturn partition(A, p, q)  # Perform standard partitioning\n",
    "\n",
    "\n",
    "def random_select(A, i, p=0, q=None):\n",
    "\t# Ensure q is set only once at the start of the recursion\n",
    "\tif q is None:\n",
    "\t\tq = len(A) - 1\n",
    "\tdef _random_select(A, i, p, q):\n",
    "\t\t# If the subarray has only one element, return it\n",
    "\t\tif p == q:\n",
    "\t\t\treturn A[p]\n",
    "\t\t# Partition the array randomly and get the pivot index\n",
    "\t\tpivot_index = random_partition(A, p, q)\n",
    "\t\t# Number of elements on the left including the pivot\n",
    "\t\tk = pivot_index - p + 1\n",
    "\t\t# If the pivot is the i-th smallest, return it\n",
    "\t\tif i == k:\n",
    "\t\t\treturn A[pivot_index]\n",
    "\t\t# If the i-th smallest is in the left partition, recurse on the left\n",
    "\t\telif i < k:\n",
    "\t\t\treturn _random_select(A, i, p, pivot_index - 1)\n",
    "\t\t# Otherwise, recurse on the right partition with adjusted i\n",
    "\t\telse:\n",
    "\t\t\treturn _random_select(A, i - k, pivot_index + 1, q)\n",
    "\treturn _random_select(A, i, p, q)"
   ]
  },
  {
   "cell_type": "markdown",
   "id": "e145234e",
   "metadata": {},
   "source": [
    "#### **1.1.2 Functionality Demonstration with a Random List**\n",
    "We will demonstrate the functionality of the `random_select` algorithm by applying it to a randomly generated list. The unsorted list is displayed before and after the selection process, showing how the algorithm efficiently finds the i-th smallest element."
   ]
  },
  {
   "cell_type": "code",
   "execution_count": 2,
   "id": "2a98bb39",
   "metadata": {},
   "outputs": [
    {
     "name": "stdout",
     "output_type": "stream",
     "text": [
      "Array: [52, 1, 69, 67, 78, 32, 3, 97, 38, 58]\n",
      "Sorted array: [1, 3, 32, 38, 52, 58, 67, 69, 78, 97]\n",
      "The 5th smallest element in the array is: 52\n"
     ]
    }
   ],
   "source": [
    "import random\n",
    "# Create a random array of integers\n",
    "A = [random.randint(1, 100) for _ in range(10)]\n",
    "print(f\"Array: {A}\") # print the original array\n",
    "# Select the ith smallest element\n",
    "i = 5\n",
    "ith_smallest = random_select(A, i) # find the ith smallest element before sorting\n",
    "\n",
    "print(f\"Sorted array: {sorted(A)}\") # print the sorted array to verify correctness\n",
    "print(f\"The {i}th smallest element in the array is: {ith_smallest}\") # print the ith smallest element found"
   ]
  },
  {
   "cell_type": "markdown",
   "id": "17d7bb4c",
   "metadata": {},
   "source": [
    "#### **1.1.3 Validation of Correctness**\n",
    "We will validate the correctness of `random_select` by comparing the i-th smallest element found by the algorithm with the expected value from a sorted version of the list."
   ]
  },
  {
   "cell_type": "code",
   "execution_count": 3,
   "id": "648a7047",
   "metadata": {},
   "outputs": [
    {
     "name": "stdout",
     "output_type": "stream",
     "text": [
      "All tests passed successfully.\n"
     ]
    }
   ],
   "source": [
    "# Set the maximum value for n (the largest list size to test)\n",
    "m = 1000\n",
    "# Flag to track if all tests pass\n",
    "test = True\n",
    "# Test random_select for arrays of size 5 to m, incrementing by 5\n",
    "for n in range(5, m + 1, 5):\n",
    "\t# Generate a random array of size n with values from 1 to n\n",
    "\tA = [random.randint(1, n) for _ in range(n)]\n",
    "\t# Randomly select the i-th order statistic to find (1-based index)\n",
    "\ti = random.randint(1, n)\n",
    "\t# Find the i-th smallest element using random_select\n",
    "\tith_smallest = random_select(A, i)\n",
    "\t# Validate by comparing with the result from sorting the array\n",
    "\tif ith_smallest != sorted(A)[i - 1]:\n",
    "\t\tprint(f\"Test failed for n={n}, i={i}.\")\n",
    "\t\ttest = False\n",
    "\t\tbreak\n",
    "# If all tests passed, print success message\n",
    "if test:\n",
    "    print(\"All tests passed successfully.\")"
   ]
  },
  {
   "cell_type": "markdown",
   "id": "f0a4adfa",
   "metadata": {},
   "source": [
    "### **1.2 Deterministic Select**\n",
    "This deterministic algorithm finds the i-th smallest element in an unsorted list. It works by selecting a pivot and partitioning the list into elements less than or equal to the pivot and those greater than the pivot. The algorithm then recursively searches the appropriate partition based on the position of the pivot until it finds the desired order statistic. Unlike random select, this algorithm does not rely on randomization.\n",
    "\n",
    "This algorithm is not nearly as practical as Random Select. It is mostly of theoretical interest.\n",
    "#### **1.2.1 Algorithm Design**"
   ]
  },
  {
   "cell_type": "code",
   "execution_count": 4,
   "id": "257e0676",
   "metadata": {},
   "outputs": [],
   "source": [
    "def partition_around(A, p, r, pivot_value):\n",
    "\t# Move the pivot_value to the end of the subarray\n",
    "\tfor i in range(p, r + 1):\n",
    "\t\tif A[i] == pivot_value:\n",
    "\t\t\tA[i], A[r] = A[r], A[i]\n",
    "\t\t\tbreak\n",
    "\tpivot = A[r]  # The pivot is now at the end\n",
    "\ti = p - 1  # Index of the smaller element\n",
    "\t# Rearrange elements so that those <= pivot are on the left\n",
    "\tfor j in range(p, r):\n",
    "\t\tif A[j] <= pivot:\n",
    "\t\t\ti += 1\n",
    "\t\t\tA[i], A[j] = A[j], A[i]\n",
    "\t# Place the pivot in its correct position\n",
    "\tA[i + 1], A[r] = A[r], A[i + 1]\n",
    "\t# Return the index of the pivot after partitioning\n",
    "\treturn i + 1\n",
    "\n",
    "\n",
    "def deterministic_select(A, i, p=0, r=None):\n",
    "\t# Set r to the last index if not provided (only once at the beginning)\n",
    "\tif r is None:\n",
    "\t\tr = len(A) - 1\n",
    "\n",
    "\tdef _select(A, i, p, r):\n",
    "\t\t# Handle the case where the number of elements is not a multiple of 5\n",
    "\t\twhile (r - p + 1) % 5 != 0:\n",
    "\t\t\t# Move the smallest element in A[p:r+1] to the front\n",
    "\t\t\tfor j in range(p + 1, r + 1):\n",
    "\t\t\t\tif A[p] > A[j]:\n",
    "\t\t\t\t\tA[p], A[j] = A[j], A[p]\n",
    "\t\t\t# If looking for the smallest, return it\n",
    "\t\t\tif i == 1:\n",
    "\t\t\t\treturn A[p]\n",
    "\t\t\t# Otherwise, move to the next subarray and decrement i\n",
    "\t\t\tp = p + 1\n",
    "\t\t\ti = i - 1\n",
    "\n",
    "\t\tg = (r - p + 1) // 5  # number of groups of 5\n",
    "\t\t# Sort each group of 5 and write back to A\n",
    "\t\tfor j in range(p, p + g):\n",
    "\t\t\tgroup = [A[j + k * g] for k in range(5)]\n",
    "\t\t\tgroup.sort()\n",
    "\t\t\tfor k in range(5):\n",
    "\t\t\t\tA[j + k * g] = group[k]\n",
    "\n",
    "\t\t# The medians are in the middle fifth of A[p:r]\n",
    "\t\t# Recursively find the median of medians\n",
    "\t\tx = _select(A, g // 2 + 1, p + 2 * g, p + 3 * g - 1)\n",
    "\n",
    "\t\t# Partition around the median of medians\n",
    "\t\tq = partition_around(A, p, r, x)\n",
    "\t\tk = q - p + 1  # Number of elements on the left including the pivot\n",
    "\n",
    "\t\t# Return the correct order statistic\n",
    "\t\tif i == k:\n",
    "\t\t\treturn A[q]\n",
    "\t\telif i < k:\n",
    "\t\t\treturn _select(A, i, p, q - 1)\n",
    "\t\telse:\n",
    "\t\t\treturn _select(A, i - k, q + 1, r)\n",
    "\n",
    "\treturn _select(A, i, p, r)"
   ]
  },
  {
   "cell_type": "markdown",
   "id": "7b481bd0",
   "metadata": {},
   "source": [
    "#### **1.2.2 Functionality Demonstration with a Random List**\n",
    "We will demonstrate the functionality of the `deterministic_select` algorithm by applying it to a randomly generated list. The unsorted list is displayed before and after the selection process, showing how the algorithm efficiently finds the i-th smallest element."
   ]
  },
  {
   "cell_type": "code",
   "execution_count": 5,
   "id": "0ab6d152",
   "metadata": {},
   "outputs": [
    {
     "name": "stdout",
     "output_type": "stream",
     "text": [
      "Array: [7, 93, 17, 86, 42, 40, 73, 55, 25, 2]\n",
      "Sorted array: [2, 7, 17, 25, 40, 42, 55, 73, 86, 93]\n",
      "The 5th smallest element in the array is: 40\n"
     ]
    }
   ],
   "source": [
    "import random\n",
    "# Create a random array of integers\n",
    "A = [random.randint(1, 100) for _ in range(10)]\n",
    "print(f\"Array: {A}\") # print the original array\n",
    "# Select the ith smallest element\n",
    "i = 5\n",
    "ith_smallest = deterministic_select(A, i) # find the ith smallest element before sorting\n",
    "\n",
    "print(f\"Sorted array: {sorted(A)}\") # print the sorted array to verify correctness\n",
    "print(f\"The {i}th smallest element in the array is: {ith_smallest}\") # print the ith smallest element found"
   ]
  },
  {
   "cell_type": "markdown",
   "id": "cb314d3e",
   "metadata": {},
   "source": [
    "#### **1.2.3 Validation of Correctness**\n",
    "We will validate the correctness of `deterministic_select` by comparing the i-th smallest element found by the algorithm with the expected value from a sorted version of the list."
   ]
  },
  {
   "cell_type": "code",
   "execution_count": 6,
   "id": "0a819c9c",
   "metadata": {},
   "outputs": [
    {
     "name": "stdout",
     "output_type": "stream",
     "text": [
      "All tests passed successfully.\n"
     ]
    }
   ],
   "source": [
    "# Set the maximum value for n (the largest list size to test)\n",
    "m = 1000\n",
    "# Flag to track if all tests pass\n",
    "test = True\n",
    "# Test deterministic_select for arrays of size 5 to m, incrementing by 5\n",
    "for n in range(5, m + 1, 5):\n",
    "\t# Generate a random array of size n with values from 1 to n\n",
    "\tA = [random.randint(1, n) for _ in range(n)]\n",
    "\t# Randomly select the i-th order statistic to find (1-based index)\n",
    "\ti = random.randint(1, n)\n",
    "\t# Find the i-th smallest element using deterministic_select\n",
    "\tith_smallest = deterministic_select(A, i)\n",
    "\t# Validate by comparing with the result from sorting the array\n",
    "\tif ith_smallest != sorted(A)[i - 1]:\n",
    "\t\tprint(f\"Test failed for n={n}, i={i}.\")\n",
    "\t\ttest = False\n",
    "\t\tbreak\n",
    "# If all tests passed, print success message\n",
    "if test:\n",
    "    print(\"All tests passed successfully.\")"
   ]
  },
  {
   "cell_type": "markdown",
   "id": "a995067a",
   "metadata": {},
   "source": [
    "### **1.3 QuickSort Select**\n",
    "This algorithm first sorts the list using the Quick Sort algorithm, and then returns the (i-1)-th element as the i-th smallest. The correctness of this approach is ensured by the fact that it fully sorts the list before selecting the desired element. Since sorting arranges all elements in order, retrieving the (i-1)-th element from the sorted list will always yield the correct i-th smallest value.\n",
    "\n",
    "For more details about the `quick_sort` algorithm, please refer to the corresponding repository. The repository link is available in the main README file.\n",
    "\n"
   ]
  },
  {
   "cell_type": "code",
   "execution_count": 7,
   "id": "3b58f454",
   "metadata": {},
   "outputs": [],
   "source": [
    "def quick_sort(A, p=0, r=None):\n",
    "\tif r is None:  # Evaluate this condition only once\n",
    "\t\t\tr = len(A) - 1\n",
    "\n",
    "\tdef recursive_quick_sort(A, p, r):\n",
    "\t\tif p < r:  # Base case: stop when the sublist has one or no elements\n",
    "\t\t\tpivot_index = partition(A, p, r)  # Partition the list and get the pivot index\n",
    "\t\t\trecursive_quick_sort(A, p, pivot_index - 1)  # Recursively sort the left partition\n",
    "\t\t\trecursive_quick_sort(A, pivot_index + 1, r)  # Recursively sort the right partition\n",
    "\n",
    "\t# Call the inner recursive function\n",
    "\trecursive_quick_sort(A, p, r)\n",
    "\n",
    "\n",
    "def quicksort_select(A, i):\n",
    "\tquick_sort(A)  # Sort the array first\n",
    "\treturn A[i - 1]  # Return the i-th smallest element"
   ]
  },
  {
   "cell_type": "markdown",
   "id": "7de6d76c",
   "metadata": {},
   "source": [
    "## **2. Experiment Block: Performance Comparison**\n",
    "### **2.1 Importing Libraries and Setting Up Paths**"
   ]
  },
  {
   "cell_type": "code",
   "execution_count": 8,
   "id": "4601d479",
   "metadata": {},
   "outputs": [],
   "source": [
    "import random\n",
    "import time\n",
    "import matplotlib.pyplot as plt\n",
    "import os\n",
    "import sys\n",
    "\n",
    "sys.path.append(os.path.abspath(\"../img\"))"
   ]
  },
  {
   "cell_type": "markdown",
   "id": "5bd1b717",
   "metadata": {},
   "source": [
    "### **2.2 Utility Functions for Performance Measurement and Visualization**"
   ]
  },
  {
   "cell_type": "code",
   "execution_count": 9,
   "id": "86cd1c34",
   "metadata": {},
   "outputs": [],
   "source": [
    "# Function that computes the execution time\n",
    "def execution_time(fun, *args):\n",
    "\t# Record the start time before the function call\n",
    "\tstart = time.time()\n",
    "\t\n",
    "\t# Call the function with the provided arguments\n",
    "\tfun(*args)\n",
    "\t\n",
    "\t# Record the end time after the function call\n",
    "\tend = time.time()\n",
    "\t\n",
    "\t# Return the difference between end and start times (execution duration)\n",
    "\treturn end - start\n",
    "\n",
    "\n",
    "\n",
    "# Function that compares execution time\n",
    "def comparison_machine(sizes, reps, algorithm):\n",
    "\t# Initialize a list to store total execution times for each algorithm\n",
    "\ttotal_time = [[] for _ in algorithm]\n",
    "\t\n",
    "\t# Loop through each size in the list of sizes\n",
    "\tfor n in sizes:\n",
    "\t\t# Initialize a list to store the cumulative execution time for each algorithm\n",
    "\t\tcumulative_time = [0 for _ in algorithm]\n",
    "\t\t\n",
    "\t\t# Repeat the experiment 'reps' times for each size\n",
    "\t\tfor _ in range(reps):\n",
    "\t\t\tk = random.randint(1, n)  # Randomly select k from 1 to n (1-based index)\n",
    "    \n",
    "\t\t\t# Generate a random sample list of size n\n",
    "\t\t\tlist_sample = [random.randint(1, n) for _ in range(n)]\n",
    "\t\t\t\n",
    "\t\t\t# Loop through each algorithm and measure its execution time\n",
    "\t\t\tfor i, algo in enumerate(algorithm):\n",
    "\t\t\t\t# Create a copy of the sample list to avoid modifying the original\n",
    "\t\t\t\tlist_copy = list_sample.copy()\n",
    "\t\t\t\t\n",
    "\t\t\t\t# Measure the execution time of the algorithm and add it to the cumulative time\n",
    "\t\t\t\tcumulative_time[i] += execution_time(algo, list_copy, k)\n",
    "\t\t\n",
    "\t\t# Calculate the average execution time for each algorithm and append it to total_times\n",
    "\t\tfor i, t in enumerate(cumulative_time):\n",
    "\t\t\ttotal_time[i].append(t / reps)\n",
    "\t\n",
    "\t# Return the list of average execution times for each algorithm\n",
    "\treturn total_time\n",
    "\n",
    "\n",
    "\n",
    "# Function that plots the results\n",
    "def comparison_graph(sizes, t, algorithm):\n",
    "\t# Create the plot\n",
    "\tfor i, algo in enumerate(algorithm):\n",
    "\t\t# Plot the execution times for each algorithm\n",
    "\t\tplt.plot(sizes, t[i], label=algo.__name__)\n",
    "\t\n",
    "\t# Plot features\n",
    "\tplt.title(f'Comparison plot') # Title\n",
    "\tplt.xlabel(\"List size (n)\") # x-axis label\n",
    "\tplt.ylabel(\"Average time (s)\") # y-axis label\n",
    "\tplt.legend(loc='upper left') # show legend\n",
    "\n",
    "\t# Relative path to the 'img' folder from the notebook location\n",
    "\timg_path = os.path.join(\"..\", \"img\")\n",
    "\t\n",
    "\t# Ensure the 'img' folder exists; create it if it doesn't\n",
    "\tos.makedirs(img_path, exist_ok=True)\n",
    "\n",
    "\t# Save the graph to the 'img' folder with a filename based on the scenario name\n",
    "\tfilename = os.path.join(img_path, f\"comparison_2.png\")\n",
    "\tplt.savefig(filename, bbox_inches=\"tight\")  # Save the plot with tight bounding box\n",
    "\tprint(f\"Graph saved to: {filename}\")  # Print the location of the saved graph\n",
    "\t\n",
    "\t# Display the plot\n",
    "\tplt.show()\n",
    "\n",
    "\n",
    "\n",
    "# Function that calls all the machinery\n",
    "def machine_call(sizes, reps, algorithm):\n",
    "\t# Call the comparison_machine function to compute execution times\n",
    "\tt = comparison_machine(sizes, reps, algorithm)\n",
    "\t\n",
    "\t# Call the comparison_graph function to plot the results\n",
    "\tcomparison_graph(sizes, t, algorithm)"
   ]
  },
  {
   "cell_type": "markdown",
   "id": "636b41aa",
   "metadata": {},
   "source": [
    "### **2.3 Performance Comparison of Random Select, Deterministic Select, and QuickSort Select**\n",
    "We will compare the performance of the three algorithms: `random_select`, `deterministic_select`, and `quicksort_select`. The comparison will be based on their execution times for various input sizes. The results will be visualized using a line plot to illustrate the differences in performance across different input sizes."
   ]
  },
  {
   "cell_type": "code",
   "execution_count": 10,
   "id": "64e6879e",
   "metadata": {},
   "outputs": [
    {
     "name": "stdout",
     "output_type": "stream",
     "text": [
      "Graph saved to: ..\\img\\comparison_2.png\n"
     ]
    },
    {
     "data": {
      "image/png": "[encoded data removed]",
      "text/plain": [
       "<Figure size 640x480 with 1 Axes>"
      ]
     },
     "metadata": {},
     "output_type": "display_data"
    }
   ],
   "source": [
    "samples = 10  # Number of sample points (input sizes) to test\n",
    "step_size = 10000  # Step size for generating input sizes\n",
    "sizes = [i * step_size for i in range(1, samples + 1)]  # List of input sizes to test\n",
    "\n",
    "reps = 10  # Number of repetitions for each input size to calculate average execution time\n",
    "\n",
    "algorithm = [deterministic_select, random_select, quicksort_select]  # List of algorithms to compare\n",
    "\n",
    "# Call the machine_call function to compute execution times and generate a comparison graph\n",
    "machine_call(sizes, reps, algorithm)"
   ]
  },
  {
   "cell_type": "markdown",
   "id": "f27c10f3",
   "metadata": {},
   "source": [
    "The results show that `random_select` consistently outperforms both `deterministic_select` and `quicksort_select`, exhibiting the lowest execution times as the list size grows. The `deterministic_select` algorithm is slower than `random_select` but faster than `quicksort_select`. As expected, `quicksort_select` is the slowest, since it requires fully sorting the array before selection."
   ]
  },
  {
   "cell_type": "markdown",
   "id": "7b1dcc20",
   "metadata": {},
   "source": [
    "## **Conclusion**\n",
    "\n",
    "This notebook explored and compared three algorithms for finding the i-th smallest element in an unsorted list: `random_select`, `deterministic_select`, and `quicksort_select`. The experimental results clearly show that `random_select` is the most efficient in practice, followed by the `deterministic_select` algorithm. The `quicksort_select` approach, which sorts the entire list before selecting the desired element, was consistently the slowest.\n",
    "\n",
    "The key takeaway is that if the goal is to find just a single i-th smallest element, it is much more efficient to use a selection algorithm like `random_select` or `deterministic_select` rather than sorting the whole list. Sorting is only necessary if the entire order of elements is required; otherwise, selection algorithms provide significant performance benefits for this specific task."
   ]
  }
 ],
 "metadata": {
  "kernelspec": {
   "display_name": "Python 3",
   "language": "python",
   "name": "python3"
  },
  "language_info": {
   "codemirror_mode": {
    "name": "ipython",
    "version": 3
   },
   "file_extension": ".py",
   "mimetype": "text/x-python",
   "name": "python",
   "nbconvert_exporter": "python",
   "pygments_lexer": "ipython3",
   "version": "3.13.4"
  }
 },
 "nbformat": 4,
 "nbformat_minor": 5
}
